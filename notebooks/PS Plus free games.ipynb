{
 "cells": [
  {
   "cell_type": "code",
   "execution_count": 1,
   "metadata": {},
   "outputs": [],
   "source": [
    "import requests\n",
    "\n",
    "from bs4 import BeautifulSoup"
   ]
  },
  {
   "cell_type": "markdown",
   "metadata": {},
   "source": [
    "## PS Plus"
   ]
  },
  {
   "cell_type": "code",
   "execution_count": 4,
   "metadata": {},
   "outputs": [],
   "source": [
    "res = requests.get('https://store.playstation.com/en-in/home/games/psplus')\n",
    "soup = BeautifulSoup(res.content, 'html.parser')"
   ]
  },
  {
   "cell_type": "code",
   "execution_count": 38,
   "metadata": {},
   "outputs": [
    {
     "data": {
      "text/plain": [
       "3"
      ]
     },
     "execution_count": 38,
     "metadata": {},
     "output_type": "execute_result"
    }
   ],
   "source": [
    "containers = soup.find_all('div', 'grid-cell-row')\n",
    "len(containers)"
   ]
  },
  {
   "cell_type": "code",
   "execution_count": 39,
   "metadata": {},
   "outputs": [],
   "source": [
    "monthly_container = None\n",
    "\n",
    "for container in containers:\n",
    "    \n",
    "    name = container.find('span', 'grid-cell-row__container-name')\n",
    "    \n",
    "    if 'monthly games' in name.text.lower():\n",
    "        monthly_container = container\n",
    "        break"
   ]
  },
  {
   "cell_type": "code",
   "execution_count": 40,
   "metadata": {},
   "outputs": [
    {
     "data": {
      "text/plain": [
       "4"
      ]
     },
     "execution_count": 40,
     "metadata": {},
     "output_type": "execute_result"
    }
   ],
   "source": [
    "games = monthly_container.find_all('div', 'grid-cell__body')\n",
    "len(games)"
   ]
  },
  {
   "cell_type": "code",
   "execution_count": 58,
   "metadata": {},
   "outputs": [
    {
     "data": {
      "text/plain": [
       "2"
      ]
     },
     "execution_count": 58,
     "metadata": {},
     "output_type": "execute_result"
    }
   ],
   "source": [
    "free_games = []\n",
    "\n",
    "for game in games:\n",
    "    \n",
    "    price = game.find('div', 'price-display__price--is-plus-upsell')\n",
    "    \n",
    "    if price and price.text.lower() == 'free':\n",
    "        \n",
    "        free_games.append(game)\n",
    "\n",
    "len(free_games)"
   ]
  },
  {
   "cell_type": "code",
   "execution_count": 62,
   "metadata": {},
   "outputs": [
    {
     "name": "stdout",
     "output_type": "stream",
     "text": [
      "2\n",
      "{\"PLAYERUNKNOWN'S BATTLEGROUNDS\": 'https://store.playstation.com/en-in/home/games/psplus/en-in/product/EP5262-CUSA14391_00-PTSBUN0000000000', 'Street Fighter V': 'https://store.playstation.com/en-in/home/games/psplus/en-in/product/EP0102-CUSA01222_00-SF5FULLGAME00000'}\n"
     ]
    }
   ],
   "source": [
    "base_url  = \"https://store.playstation.com/en-in/home/games/psplus\"\n",
    "build_url = lambda path: base_url + path\n",
    "\n",
    "report = {}\n",
    "\n",
    "for game in free_games:\n",
    "    \n",
    "    title = game.find('div', 'grid-cell__title').span.text\n",
    "    \n",
    "    path = game.find('a', 'internal-app-link ember-view')['href']\n",
    "    link = build_url(path)\n",
    "    \n",
    "    report[title] = link\n",
    "    \n",
    "print(len(report))\n",
    "print(report)"
   ]
  },
  {
   "cell_type": "markdown",
   "metadata": {},
   "source": [
    "## Epic games store"
   ]
  },
  {
   "cell_type": "code",
   "execution_count": null,
   "metadata": {},
   "outputs": [],
   "source": []
  },
  {
   "cell_type": "code",
   "execution_count": null,
   "metadata": {},
   "outputs": [],
   "source": []
  },
  {
   "cell_type": "code",
   "execution_count": null,
   "metadata": {},
   "outputs": [],
   "source": []
  },
  {
   "cell_type": "code",
   "execution_count": null,
   "metadata": {},
   "outputs": [],
   "source": []
  }
 ],
 "metadata": {
  "kernelspec": {
   "display_name": "Python 3",
   "language": "python",
   "name": "python3"
  },
  "language_info": {
   "codemirror_mode": {
    "name": "ipython",
    "version": 3
   },
   "file_extension": ".py",
   "mimetype": "text/x-python",
   "name": "python",
   "nbconvert_exporter": "python",
   "pygments_lexer": "ipython3",
   "version": "3.7.4"
  }
 },
 "nbformat": 4,
 "nbformat_minor": 4
}
